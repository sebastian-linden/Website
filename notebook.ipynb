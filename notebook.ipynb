{
 "cells": [
  {
   "cell_type": "markdown",
   "id": "e9437a95",
   "metadata": {},
   "source": [
    "# How to convert a Jupyter Notebook to HTML\n",
    "\n",
    "With jupyter installed in the virtual environment, type the following command:\n",
    "```\n",
    "jupyter notebook\n",
    "```\n",
    "\n",
    "Then open your notebook in the browser window, that pops up."
   ]
  }
 ],
 "metadata": {
  "kernelspec": {
   "display_name": "Python 3 (ipykernel)",
   "language": "python",
   "name": "python3"
  },
  "language_info": {
   "codemirror_mode": {
    "name": "ipython",
    "version": 3
   },
   "file_extension": ".py",
   "mimetype": "text/x-python",
   "name": "python",
   "nbconvert_exporter": "python",
   "pygments_lexer": "ipython3",
   "version": "3.13.5"
  }
 },
 "nbformat": 4,
 "nbformat_minor": 5
}
